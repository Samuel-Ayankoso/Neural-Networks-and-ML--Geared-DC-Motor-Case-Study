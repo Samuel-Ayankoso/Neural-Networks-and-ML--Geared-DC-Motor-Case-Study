{
 "cells": [
  {
   "cell_type": "markdown",
   "metadata": {},
   "source": [
    "<h2>SymReg Example<h2>\n",
    "\n",
    "**Symbolic Regression of a Geared DC Motor Nonlinear Dynamics**"
   ]
  },
  {
   "cell_type": "markdown",
   "metadata": {},
   "source": [
    "* To install PySINDy package, go to:\n",
    "https://github.com/dynamicslab/pysindy"
   ]
  },
  {
   "cell_type": "code",
   "execution_count": 2,
   "metadata": {},
   "outputs": [
    {
     "name": "stdout",
     "output_type": "stream",
     "text": [
      "Requirement already satisfied: pysr in c:\\users\\samual\\anaconda3\\lib\\site-packages (0.7.10)\n",
      "Requirement already satisfied: numpy in c:\\users\\samual\\anaconda3\\lib\\site-packages (from pysr) (1.16.5)\n",
      "Requirement already satisfied: pandas in c:\\users\\samual\\anaconda3\\lib\\site-packages (from pysr) (0.25.1)\n",
      "Requirement already satisfied: sympy in c:\\users\\samual\\anaconda3\\lib\\site-packages (from pysr) (1.4)\n",
      "Requirement already satisfied: scikit-learn in c:\\users\\samual\\anaconda3\\lib\\site-packages (from pysr) (0.21.3)\n",
      "Requirement already satisfied: julia>=0.5.7 in c:\\users\\samual\\anaconda3\\lib\\site-packages (from pysr) (0.5.7)\n",
      "Requirement already satisfied: python-dateutil>=2.6.1 in c:\\users\\samual\\anaconda3\\lib\\site-packages (from pandas->pysr) (2.8.0)\n",
      "Requirement already satisfied: pytz>=2017.2 in c:\\users\\samual\\anaconda3\\lib\\site-packages (from pandas->pysr) (2019.3)\n",
      "Requirement already satisfied: mpmath>=0.19 in c:\\users\\samual\\anaconda3\\lib\\site-packages (from sympy->pysr) (1.1.0)\n",
      "Requirement already satisfied: scipy>=0.17.0 in c:\\users\\samual\\anaconda3\\lib\\site-packages (from scikit-learn->pysr) (1.3.1)\n",
      "Requirement already satisfied: joblib>=0.11 in c:\\users\\samual\\anaconda3\\lib\\site-packages (from scikit-learn->pysr) (0.13.2)\n",
      "Requirement already satisfied: six>=1.5 in c:\\users\\samual\\anaconda3\\lib\\site-packages (from python-dateutil>=2.6.1->pandas->pysr) (1.12.0)\n"
     ]
    },
    {
     "data": {
      "text/plain": [
       "'\\nimport pysr\\npysr.install()\\n'"
      ]
     },
     "execution_count": 2,
     "metadata": {},
     "output_type": "execute_result"
    }
   ],
   "source": [
    "!pip install pysr\n",
    "\n",
    "'''\n",
    "import pysr\n",
    "pysr.install()\n",
    "'''"
   ]
  },
  {
   "cell_type": "code",
   "execution_count": 3,
   "metadata": {},
   "outputs": [],
   "source": [
    "# import packages\n",
    "import matplotlib.pyplot as plt\n",
    "import seaborn as sns\n",
    "import pandas as pd\n",
    "import numpy as np"
   ]
  },
  {
   "cell_type": "code",
   "execution_count": 5,
   "metadata": {},
   "outputs": [],
   "source": [
    "X = 2 * np.random.randn(100, 5)\n",
    "y = 2.5382 * np.cos(X[:, 3]) + X[:, 0] ** 2 - 0.5"
   ]
  },
  {
   "cell_type": "code",
   "execution_count": 6,
   "metadata": {},
   "outputs": [],
   "source": [
    "from pysr import PySRRegressor\n",
    "model = PySRRegressor(\n",
    "    niterations=5,\n",
    "    binary_operators=[\"+\", \"*\"],\n",
    "    unary_operators=[\n",
    "        \"cos\",\n",
    "        \"exp\",\n",
    "        \"sin\",\n",
    "        \"inv(x) = 1/x\",  # Custom operator (julia syntax)\n",
    "    ],\n",
    "    model_selection=\"best\",\n",
    "    loss=\"loss(x, y) = (x - y)^2\",  # Custom loss function (julia syntax)\n",
    ")"
   ]
  },
  {
   "cell_type": "code",
   "execution_count": 8,
   "metadata": {},
   "outputs": [
    {
     "name": "stderr",
     "output_type": "stream",
     "text": [
      "C:\\Users\\Samual\\Anaconda3\\lib\\site-packages\\pysr\\sr.py:1116: UserWarning: Warning: PySR options have changed since the last run. This is experimental and may not work. For example, if the operators change, or even their order, the saved equations will be in the wrong format.\n",
      "\n",
      "To reset the search state, run `.reset()`. \n",
      "  \"Warning: PySR options have changed since the last run. \"\n"
     ]
    },
    {
     "data": {
      "text/plain": [
       "PySRRegressor.equations = [\n",
       "\t   pick     score                                           equation  \\\n",
       "\t0        0.000000                                           3.525707   \n",
       "\t1        1.022727                                          (x0 * x0)   \n",
       "\t2        0.028840                          ((x0 * x0) + -0.42858765)   \n",
       "\t3        0.833137                              (cos(x3) + (x0 * x0))   \n",
       "\t4        0.842135                  ((cos(x3) * 2.50883) + (x0 * x0))   \n",
       "\t5        0.058128           ((sin(cos(x3)) * 2.8520322) + (x0 * x0))   \n",
       "\t6  >>>>       inf  (((cos(x3) + -0.19699253) * 2.5381718) + (x0 *...   \n",
       "\t\n",
       "\t        loss  complexity  \n",
       "\t0  25.345465           1  \n",
       "\t1   3.277712           3  \n",
       "\t2   3.094005           5  \n",
       "\t3   1.344913           6  \n",
       "\t4   0.249589           8  \n",
       "\t5   0.235494           9  \n",
       "\t6   0.000000          10  \n",
       "]"
      ]
     },
     "execution_count": 8,
     "metadata": {},
     "output_type": "execute_result"
    }
   ],
   "source": [
    "model.fit(X, y)"
   ]
  },
  {
   "cell_type": "code",
   "execution_count": 9,
   "metadata": {},
   "outputs": [
    {
     "name": "stdout",
     "output_type": "stream",
     "text": [
      "PySRRegressor.equations = [\n",
      "\t   pick     score                                           equation  \\\n",
      "\t0        0.000000                                           3.525707   \n",
      "\t1        1.022727                                          (x0 * x0)   \n",
      "\t2        0.028840                          ((x0 * x0) + -0.42858765)   \n",
      "\t3        0.833137                              (cos(x3) + (x0 * x0))   \n",
      "\t4        0.842135                  ((cos(x3) * 2.50883) + (x0 * x0))   \n",
      "\t5        0.058128           ((sin(cos(x3)) * 2.8520322) + (x0 * x0))   \n",
      "\t6  >>>>       inf  (((cos(x3) + -0.19699253) * 2.5381718) + (x0 *...   \n",
      "\t\n",
      "\t        loss  complexity  \n",
      "\t0  25.345465           1  \n",
      "\t1   3.277712           3  \n",
      "\t2   3.094005           5  \n",
      "\t3   1.344913           6  \n",
      "\t4   0.249589           8  \n",
      "\t5   0.235494           9  \n",
      "\t6   0.000000          10  \n",
      "]\n"
     ]
    }
   ],
   "source": [
    "print(model)"
   ]
  },
  {
   "cell_type": "code",
   "execution_count": 27,
   "metadata": {},
   "outputs": [
    {
     "name": "stdout",
     "output_type": "stream",
     "text": [
      "PySRRegressor.equations = [\n",
      "\t   pick     score                                           equation  \\\n",
      "\t0        0.000000                                           1.489028   \n",
      "\t1  >>>>  0.679210                                          (x0 * x0)   \n",
      "\t2        0.565147                           ((x0 * x0) + -1.9709631)   \n",
      "\t3        0.004528             (((x0 * 0.97221607) * x0) + -1.874909)   \n",
      "\t4        0.020815    (((x0 * x0) - (x3 * -0.14756781)) + -1.9347339)   \n",
      "\t5        0.221667  (((x0 * x0) + ((x3 * -0.1683736) * x3)) + -1.2...   \n",
      "\t6        0.028243  (((x0 * x0) - ((x3 * 0.16522832) * (x3 + -0.73...   \n",
      "\t7        0.041668  (((x0 * x0) - ((x3 * 0.1884066) * (x3 + (x1 * ...   \n",
      "\t8        0.017803  (((x0 * x0) - (((((x3 + x3) + x1) - 1.0304238)...   \n",
      "\t9        0.006367  (((x0 * x0) - ((((((x3 + x3) + x1) + x2) + -1....   \n",
      "\t\n",
      "\t        loss  complexity  \n",
      "\t0  22.323046           1  \n",
      "\t1   5.738512           3  \n",
      "\t2   1.853184           5  \n",
      "\t3   1.836478           7  \n",
      "\t4   1.761596           9  \n",
      "\t5   1.130756          11  \n",
      "\t6   1.068654          13  \n",
      "\t7   0.983206          15  \n",
      "\t8   0.948814          17  \n",
      "\t9   0.936809          19  \n",
      "]\n"
     ]
    }
   ],
   "source": [
    "X = 2 * np.random.randn(100, 5)\n",
    "y = 2 * np.cos(X[:, 3]) + X[:, 0] ** 2 - 2\n",
    "model = PySRRegressor(binary_operators=[\"+\", \"-\", \"*\", \"/\"])\n",
    "model.fit(X, y)\n",
    "print(model)"
   ]
  },
  {
   "cell_type": "code",
   "execution_count": 10,
   "metadata": {},
   "outputs": [
    {
     "data": {
      "text/plain": [
       "PySRRegressor.equations = [\n",
       "\t   pick  score   equation      loss  complexity\n",
       "\t0          0.0  0.6921437  55.91679           1\n",
       "\t1  >>>>    inf    inv(x0)   0.00000           2\n",
       "]"
      ]
     },
     "execution_count": 10,
     "metadata": {},
     "output_type": "execute_result"
    }
   ],
   "source": [
    "X = 2 * np.random.randn(100, 5)\n",
    "y = 1 / X[:,0]\n",
    "model = PySRRegressor(\n",
    "    binary_operators=[\"plus\", \"mult\"],\n",
    "    unary_operators=[\"inv(x) = 1/x\"],\n",
    ")\n",
    "model.fit(X, y)"
   ]
  },
  {
   "cell_type": "code",
   "execution_count": 11,
   "metadata": {},
   "outputs": [
    {
     "data": {
      "text/latex": [
       "$\\displaystyle \\frac{1}{x_{0}}$"
      ],
      "text/plain": [
       "1/x0"
      ]
     },
     "execution_count": 11,
     "metadata": {},
     "output_type": "execute_result"
    }
   ],
   "source": [
    "model.set_params(extra_sympy_mappings={\"inv\": lambda x: 1/x})\n",
    "model.sympy()"
   ]
  },
  {
   "cell_type": "code",
   "execution_count": 12,
   "metadata": {},
   "outputs": [
    {
     "name": "stdout",
     "output_type": "stream",
     "text": [
      "PySRRegressor.equations = [\n",
      "\t   pick  score   equation      loss  complexity\n",
      "\t0          0.0  0.6921437  55.91679           1\n",
      "\t1  >>>>    inf    inv(x0)   0.00000           2\n",
      "]\n"
     ]
    },
    {
     "data": {
      "text/plain": [
       "'\\\\'"
      ]
     },
     "execution_count": 12,
     "metadata": {},
     "output_type": "execute_result"
    }
   ],
   "source": [
    "print(model)\n",
    "model.latex()[0]"
   ]
  },
  {
   "cell_type": "code",
   "execution_count": 16,
   "metadata": {},
   "outputs": [],
   "source": [
    "from pysr import pysr, best"
   ]
  },
  {
   "cell_type": "code",
   "execution_count": 18,
   "metadata": {},
   "outputs": [
    {
     "name": "stdout",
     "output_type": "stream",
     "text": [
      "   complexity       loss     score  \\\n",
      "0           1  43.160110  0.000000   \n",
      "1           3   6.105427  0.977869   \n",
      "2           5   2.080870  0.538196   \n",
      "3           7   2.032323  0.011803   \n",
      "4           8   0.520218  1.362687   \n",
      "5           9   0.428610  0.193700   \n",
      "6          10   0.000000       inf   \n",
      "\n",
      "                                            equation  \\\n",
      "0                                           2.638534   \n",
      "1                                          (x0 * x0)   \n",
      "2                            ((x0 * x0) + -2.006102)   \n",
      "3             ((x0 + -1.3603712) * (x0 + 1.4628847))   \n",
      "4               ((x0 * x0) + (cos(x3) + -2.0030644))   \n",
      "5           ((x0 * x0) + (exp(cos(x3)) + -3.279944))   \n",
      "6  ((x0 * x0) + ((cos(x3) * 1.9999987) + -1.99997...   \n",
      "\n",
      "                            sympy_format  \\\n",
      "0                       2.63853400000000   \n",
      "1                                  x0**2   \n",
      "2                       x0**2 - 2.006102   \n",
      "3      (x0 - 1.3603712)*(x0 + 1.4628847)   \n",
      "4            x0**2 + cos(x3) - 2.0030644   \n",
      "5        x0**2 + exp(cos(x3)) - 3.279944   \n",
      "6  x0**2 + 1.9999987*cos(x3) - 1.9999757   \n",
      "\n",
      "                                       lambda_format  \n",
      "0                  PySRFunction(X=>2.63853400000000)  \n",
      "1                             PySRFunction(X=>x0**2)  \n",
      "2                  PySRFunction(X=>x0**2 - 2.006102)  \n",
      "3  PySRFunction(X=>(x0 - 1.3603712)*(x0 + 1.46288...  \n",
      "4       PySRFunction(X=>x0**2 + cos(x3) - 2.0030644)  \n",
      "5   PySRFunction(X=>x0**2 + exp(cos(x3)) - 3.279944)  \n",
      "6  PySRFunction(X=>x0**2 + 1.9999987*cos(x3) - 1....  \n"
     ]
    }
   ],
   "source": [
    "# Dataset\n",
    "X = 2*np.random.randn(100, 5)\n",
    "y = 2*np.cos(X[:, 3]) + X[:, 0]**2 - 2\n",
    "\n",
    "# Learn equations\n",
    "equations = pysr(X, y, niterations=5,\n",
    "    binary_operators=[\"plus\", \"mult\"],\n",
    "    unary_operators=[\n",
    "      \"cos\", \"exp\", \"sin\", #Pre-defined library of operators (see https://pysr.readthedocs.io/en/latest/docs/operators/)\n",
    "      \"inv(x) = 1/x\"]) # Define your own operator! (Julia syntax)\n",
    "\n",
    "...# (you can use ctl-c to exit early)\n",
    "\n",
    "print(equations)"
   ]
  },
  {
   "cell_type": "code",
   "execution_count": null,
   "metadata": {},
   "outputs": [],
   "source": [
    "print(equations)"
   ]
  },
  {
   "cell_type": "code",
   "execution_count": null,
   "metadata": {},
   "outputs": [],
   "source": []
  },
  {
   "cell_type": "code",
   "execution_count": 25,
   "metadata": {},
   "outputs": [
    {
     "name": "stdout",
     "output_type": "stream",
     "text": [
      "(25000, 2)\n",
      "(25000, 2)\n"
     ]
    }
   ],
   "source": [
    "# data\n",
    "exp_data_tr = pd.read_csv('C:/Users/Samual/OneDrive - aucegypt.edu/Documents/PYTHON/Neural Networks and ML- Geared DC Motor Case Study/DC_Motor_experimental_data_training.csv')\n",
    "exp_data_tr.columns = ['time', 'voltage','speed']\n",
    "\n",
    "t_tr=exp_data_tr[\"time\"]\n",
    "t_tr=np.array(t_tr)\n",
    "\n",
    "v_tr=exp_data_tr[\"voltage\"]\n",
    "v_tr=np.array(v_tr)\n",
    "\n",
    "theta_tr=exp_data_tr[\"speed\"]\n",
    "theta_tr=np.array(theta_tr)\n",
    "\n",
    "theta_v_tr = np.stack((theta_tr,v_tr), axis=-1)  # First column is theta, second is v\n",
    "print(theta_v_tr.shape)\n",
    "\n",
    "\n",
    "# Testind/Validation Data\n",
    "exp_data_ts = pd.read_csv('C:/Users/Samual/OneDrive - aucegypt.edu/Documents/PYTHON/Neural Networks and ML- Geared DC Motor Case Study/DC_Motor_experimental_data_testing.csv')\n",
    "\n",
    "exp_data_ts.columns = ['time', 'voltage','speed']\n",
    "\n",
    "t_ts=exp_data_ts[\"time\"]\n",
    "t_ts=np.array(t_ts)\n",
    "\n",
    "v_ts=exp_data_ts[\"voltage\"]\n",
    "v_ts=np.array(v_ts)\n",
    "\n",
    "theta_ts=exp_data_ts[\"speed\"]\n",
    "theta_ts=np.array(theta_ts)\n",
    "\n",
    "\n",
    "theta_v_ts = np.stack((theta_ts,v_ts), axis=-1)  # First column is theta, second is v\n",
    "print(theta_v_ts.shape)\n",
    "\n"
   ]
  },
  {
   "cell_type": "code",
   "execution_count": 28,
   "metadata": {},
   "outputs": [],
   "source": [
    "# Compute derivatives with a finite difference method, for comparison\n",
    "theta_dot_tr= np.gradient(theta_tr, 0.02)"
   ]
  },
  {
   "cell_type": "code",
   "execution_count": 30,
   "metadata": {},
   "outputs": [
    {
     "name": "stdout",
     "output_type": "stream",
     "text": [
      "PySRRegressor.equations = [\n",
      "\t   pick         score                                           equation  \\\n",
      "\t0        0.000000e+00                                         0.60211617   \n",
      "\t1        9.783219e-04                 ((x0 * -0.011036393) - -3.1680727)   \n",
      "\t2        2.191787e-03  ((((x0 * -0.0019070504) - -0.6488187) * x1) - ...   \n",
      "\t3  >>>>  1.409333e-02  (((((x1 * -0.002742693) + -0.073287815) * x0) ...   \n",
      "\t4        5.612348e-03  (((x1 + x1) + -49.114437) - ((x0 * (x1 - -22.4...   \n",
      "\t5        8.304493e-06  (((x1 + (x1 - 0.5149258)) + -48.791767) - ((x0...   \n",
      "\t6        4.885039e-07  ((((x1 + x1) - (((x0 * x1) + 1.0393311) * 0.00...   \n",
      "\t\n",
      "\t        loss  complexity  \n",
      "\t0  140.17674           1  \n",
      "\t1  139.62926           5  \n",
      "\t2  138.41046           9  \n",
      "\t3  134.56360          11  \n",
      "\t4  133.06161          13  \n",
      "\t5  133.05940          15  \n",
      "\t6  133.05927          17  \n",
      "]\n"
     ]
    }
   ],
   "source": [
    "model = PySRRegressor(binary_operators=[\"+\", \"-\", \"*\"])\n",
    "model.fit(theta_v_tr,theta_dot_tr)\n",
    "print(model)"
   ]
  },
  {
   "cell_type": "code",
   "execution_count": 31,
   "metadata": {},
   "outputs": [
    {
     "data": {
      "text/latex": [
       "$\\displaystyle x_{0} \\left(- 0.002742693 x_{1} - 0.073287815\\right) + x_{1} - 22.321758$"
      ],
      "text/plain": [
       "x0*(-0.002742693*x1 - 0.073287815) + x1 - 22.321758"
      ]
     },
     "execution_count": 31,
     "metadata": {},
     "output_type": "execute_result"
    }
   ],
   "source": [
    "model.set_params(extra_sympy_mappings={})\n",
    "model.sympy()"
   ]
  }
 ],
 "metadata": {
  "interpreter": {
   "hash": "8ff7d0ff71a1eb51c08e3c598d41780021e5f8b8cc84e078d1065cf931c97743"
  },
  "kernelspec": {
   "display_name": "Python 3.7.11 ('deep_env2')",
   "language": "python",
   "name": "python3"
  },
  "language_info": {
   "codemirror_mode": {
    "name": "ipython",
    "version": 3
   },
   "file_extension": ".py",
   "mimetype": "text/x-python",
   "name": "python",
   "nbconvert_exporter": "python",
   "pygments_lexer": "ipython3",
   "version": "3.7.4"
  },
  "orig_nbformat": 4
 },
 "nbformat": 4,
 "nbformat_minor": 2
}
