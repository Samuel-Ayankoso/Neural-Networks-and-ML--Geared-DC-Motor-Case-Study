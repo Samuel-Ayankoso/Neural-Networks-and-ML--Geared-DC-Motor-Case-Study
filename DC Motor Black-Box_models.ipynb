{
 "cells": [
  {
   "attachments": {},
   "cell_type": "markdown",
   "metadata": {},
   "source": [
    "# Modelling of a Geared DC Motor"
   ]
  },
  {
   "attachments": {},
   "cell_type": "markdown",
   "metadata": {},
   "source": [
    "**Balck-box modelling of a DC Motor using FNN, CNN and LSTM**"
   ]
  },
  {
   "attachments": {},
   "cell_type": "markdown",
   "metadata": {},
   "source": [
    "- Input: PWM signal\n",
    "- Output : Angular speed"
   ]
  },
  {
   "attachments": {},
   "cell_type": "markdown",
   "metadata": {},
   "source": [
    "<h5> DC Motor specification </h5>\n",
    "\n",
    "-   12 volts DC\n",
    "-   Gear ration 10:1\n",
    "\n",
    "\n",
    "<h4> Experimental Settings  </h4>\n",
    "\n",
    "-   Sampling time- 0.002s\n",
    "-   Duration- 500s"
   ]
  },
  {
   "cell_type": "code",
   "execution_count": 10,
   "metadata": {},
   "outputs": [],
   "source": [
    "#  Import Packages\n",
    "import pandas as pd\n",
    "import numpy as np\n",
    "import matplotlib.pyplot as plt\n",
    "\n",
    "from sklearn.preprocessing import MinMaxScaler\n",
    "from sklearn import metrics\n",
    "import tensorflow as tf\n",
    "import tensorflow\n",
    "from numpy.random import seed\n",
    "tf.random.set_seed(10)\n",
    "# setting the seed\n",
    "seed(10)\n",
    "\n",
    "from tensorflow.keras.models import Sequential\n",
    "from tensorflow.keras.layers import Dense, Conv2D, Conv1D, Flatten, Dropout,InputLayer\n",
    "\n",
    "from tensorflow.keras.layers import RNN, Layer,LSTM, SimpleRNN\n",
    "from tensorflow.keras.preprocessing.sequence import TimeseriesGenerator\n",
    "from tensorflow.keras import Sequential\n",
    "from tensorflow.keras.optimizers import RMSprop, SGD, Adam\n",
    "from tensorflow import float32, concat, convert_to_tensor, linalg"
   ]
  },
  {
   "cell_type": "code",
   "execution_count": 2,
   "metadata": {},
   "outputs": [
    {
     "data": {
      "text/html": [
       "<div>\n",
       "<style scoped>\n",
       "    .dataframe tbody tr th:only-of-type {\n",
       "        vertical-align: middle;\n",
       "    }\n",
       "\n",
       "    .dataframe tbody tr th {\n",
       "        vertical-align: top;\n",
       "    }\n",
       "\n",
       "    .dataframe thead th {\n",
       "        text-align: right;\n",
       "    }\n",
       "</style>\n",
       "<table border=\"1\" class=\"dataframe\">\n",
       "  <thead>\n",
       "    <tr style=\"text-align: right;\">\n",
       "      <th></th>\n",
       "      <th>0</th>\n",
       "      <th>40.5</th>\n",
       "      <th>0.1</th>\n",
       "    </tr>\n",
       "  </thead>\n",
       "  <tbody>\n",
       "    <tr>\n",
       "      <th>0</th>\n",
       "      <td>0.020000</td>\n",
       "      <td>40.5</td>\n",
       "      <td>0.000000</td>\n",
       "    </tr>\n",
       "    <tr>\n",
       "      <th>1</th>\n",
       "      <td>0.040000</td>\n",
       "      <td>40.5</td>\n",
       "      <td>0.980267</td>\n",
       "    </tr>\n",
       "    <tr>\n",
       "      <th>2</th>\n",
       "      <td>0.060000</td>\n",
       "      <td>40.5</td>\n",
       "      <td>0.941830</td>\n",
       "    </tr>\n",
       "    <tr>\n",
       "      <th>3</th>\n",
       "      <td>0.080000</td>\n",
       "      <td>40.5</td>\n",
       "      <td>1.885167</td>\n",
       "    </tr>\n",
       "    <tr>\n",
       "      <th>4</th>\n",
       "      <td>0.100000</td>\n",
       "      <td>40.5</td>\n",
       "      <td>3.771782</td>\n",
       "    </tr>\n",
       "    <tr>\n",
       "      <th>...</th>\n",
       "      <td>...</td>\n",
       "      <td>...</td>\n",
       "      <td>...</td>\n",
       "    </tr>\n",
       "    <tr>\n",
       "      <th>24995</th>\n",
       "      <td>499.919983</td>\n",
       "      <td>255.0</td>\n",
       "      <td>300.932159</td>\n",
       "    </tr>\n",
       "    <tr>\n",
       "      <th>24996</th>\n",
       "      <td>499.940002</td>\n",
       "      <td>255.0</td>\n",
       "      <td>300.895599</td>\n",
       "    </tr>\n",
       "    <tr>\n",
       "      <th>24997</th>\n",
       "      <td>499.959992</td>\n",
       "      <td>255.0</td>\n",
       "      <td>300.860474</td>\n",
       "    </tr>\n",
       "    <tr>\n",
       "      <th>24998</th>\n",
       "      <td>499.979981</td>\n",
       "      <td>255.0</td>\n",
       "      <td>300.826721</td>\n",
       "    </tr>\n",
       "    <tr>\n",
       "      <th>24999</th>\n",
       "      <td>500.000000</td>\n",
       "      <td>255.0</td>\n",
       "      <td>300.794311</td>\n",
       "    </tr>\n",
       "  </tbody>\n",
       "</table>\n",
       "<p>25000 rows × 3 columns</p>\n",
       "</div>"
      ],
      "text/plain": [
       "                0   40.5         0.1\n",
       "0        0.020000   40.5    0.000000\n",
       "1        0.040000   40.5    0.980267\n",
       "2        0.060000   40.5    0.941830\n",
       "3        0.080000   40.5    1.885167\n",
       "4        0.100000   40.5    3.771782\n",
       "...           ...    ...         ...\n",
       "24995  499.919983  255.0  300.932159\n",
       "24996  499.940002  255.0  300.895599\n",
       "24997  499.959992  255.0  300.860474\n",
       "24998  499.979981  255.0  300.826721\n",
       "24999  500.000000  255.0  300.794311\n",
       "\n",
       "[25000 rows x 3 columns]"
      ]
     },
     "execution_count": 2,
     "metadata": {},
     "output_type": "execute_result"
    }
   ],
   "source": [
    "# data\n",
    "exp_data = pd.read_csv('C:/Users/Samual/OneDrive - aucegypt.edu/Documents/PYTHON/Neural Networks and ML- Geared DC Motor Case Study/DC_Motor_experimental_data_training.csv')\n",
    "exp_data"
   ]
  },
  {
   "cell_type": "code",
   "execution_count": 3,
   "metadata": {},
   "outputs": [
    {
     "data": {
      "text/html": [
       "<div>\n",
       "<style scoped>\n",
       "    .dataframe tbody tr th:only-of-type {\n",
       "        vertical-align: middle;\n",
       "    }\n",
       "\n",
       "    .dataframe tbody tr th {\n",
       "        vertical-align: top;\n",
       "    }\n",
       "\n",
       "    .dataframe thead th {\n",
       "        text-align: right;\n",
       "    }\n",
       "</style>\n",
       "<table border=\"1\" class=\"dataframe\">\n",
       "  <thead>\n",
       "    <tr style=\"text-align: right;\">\n",
       "      <th></th>\n",
       "      <th>time</th>\n",
       "      <th>voltage</th>\n",
       "      <th>speed</th>\n",
       "    </tr>\n",
       "  </thead>\n",
       "  <tbody>\n",
       "    <tr>\n",
       "      <th>0</th>\n",
       "      <td>0.020000</td>\n",
       "      <td>40.5</td>\n",
       "      <td>0.000000</td>\n",
       "    </tr>\n",
       "    <tr>\n",
       "      <th>1</th>\n",
       "      <td>0.040000</td>\n",
       "      <td>40.5</td>\n",
       "      <td>0.980267</td>\n",
       "    </tr>\n",
       "    <tr>\n",
       "      <th>2</th>\n",
       "      <td>0.060000</td>\n",
       "      <td>40.5</td>\n",
       "      <td>0.941830</td>\n",
       "    </tr>\n",
       "    <tr>\n",
       "      <th>3</th>\n",
       "      <td>0.080000</td>\n",
       "      <td>40.5</td>\n",
       "      <td>1.885167</td>\n",
       "    </tr>\n",
       "    <tr>\n",
       "      <th>4</th>\n",
       "      <td>0.100000</td>\n",
       "      <td>40.5</td>\n",
       "      <td>3.771782</td>\n",
       "    </tr>\n",
       "    <tr>\n",
       "      <th>...</th>\n",
       "      <td>...</td>\n",
       "      <td>...</td>\n",
       "      <td>...</td>\n",
       "    </tr>\n",
       "    <tr>\n",
       "      <th>24995</th>\n",
       "      <td>499.919983</td>\n",
       "      <td>255.0</td>\n",
       "      <td>300.932159</td>\n",
       "    </tr>\n",
       "    <tr>\n",
       "      <th>24996</th>\n",
       "      <td>499.940002</td>\n",
       "      <td>255.0</td>\n",
       "      <td>300.895599</td>\n",
       "    </tr>\n",
       "    <tr>\n",
       "      <th>24997</th>\n",
       "      <td>499.959992</td>\n",
       "      <td>255.0</td>\n",
       "      <td>300.860474</td>\n",
       "    </tr>\n",
       "    <tr>\n",
       "      <th>24998</th>\n",
       "      <td>499.979981</td>\n",
       "      <td>255.0</td>\n",
       "      <td>300.826721</td>\n",
       "    </tr>\n",
       "    <tr>\n",
       "      <th>24999</th>\n",
       "      <td>500.000000</td>\n",
       "      <td>255.0</td>\n",
       "      <td>300.794311</td>\n",
       "    </tr>\n",
       "  </tbody>\n",
       "</table>\n",
       "<p>25000 rows × 3 columns</p>\n",
       "</div>"
      ],
      "text/plain": [
       "             time  voltage       speed\n",
       "0        0.020000     40.5    0.000000\n",
       "1        0.040000     40.5    0.980267\n",
       "2        0.060000     40.5    0.941830\n",
       "3        0.080000     40.5    1.885167\n",
       "4        0.100000     40.5    3.771782\n",
       "...           ...      ...         ...\n",
       "24995  499.919983    255.0  300.932159\n",
       "24996  499.940002    255.0  300.895599\n",
       "24997  499.959992    255.0  300.860474\n",
       "24998  499.979981    255.0  300.826721\n",
       "24999  500.000000    255.0  300.794311\n",
       "\n",
       "[25000 rows x 3 columns]"
      ]
     },
     "execution_count": 3,
     "metadata": {},
     "output_type": "execute_result"
    }
   ],
   "source": [
    "exp_data.columns = ['time', 'voltage', 'speed']\n",
    "exp_data"
   ]
  },
  {
   "cell_type": "code",
   "execution_count": 4,
   "metadata": {},
   "outputs": [
    {
     "data": {
      "image/png": "[encoded data removed]",
      "text/plain": [
       "<Figure size 432x288 with 1 Axes>"
      ]
     },
     "metadata": {
      "needs_background": "light"
     },
     "output_type": "display_data"
    },
    {
     "name": "stdout",
     "output_type": "stream",
     "text": [
      "\n",
      "\n"
     ]
    }
   ],
   "source": [
    "# Motor Input Signal\n",
    "plt.plot(exp_data['time'][:-1],exp_data['voltage'][:-1])\n",
    "plt.ylabel('Pulse Width Modulation [Duty Cycle]')\n",
    "plt.xlabel('Time [s]')\n",
    "plt.title('Motor input signal')\n",
    "plt.show()\n",
    "print('\\n')"
   ]
  },
  {
   "cell_type": "code",
   "execution_count": 5,
   "metadata": {},
   "outputs": [
    {
     "data": {
      "image/png": "[encoded data removed]",
      "text/plain": [
       "<Figure size 432x288 with 1 Axes>"
      ]
     },
     "metadata": {
      "needs_background": "light"
     },
     "output_type": "display_data"
    },
    {
     "name": "stdout",
     "output_type": "stream",
     "text": [
      "\n",
      "\n"
     ]
    }
   ],
   "source": [
    "# Motor Output Plot\n",
    "plt.plot(exp_data['time'][:-1],exp_data['speed'][:-1])\n",
    "plt.ylabel('Angular Speed [RPM]')\n",
    "plt.xlabel('Time [s]')\n",
    "plt.title('The Speed of the DC Motor')\n",
    "plt.show()\n",
    "print('\\n')"
   ]
  },
  {
   "cell_type": "code",
   "execution_count": 6,
   "metadata": {},
   "outputs": [],
   "source": [
    "# Data for training\n",
    "exp_data = pd.read_csv('C:/Users/Samual/OneDrive - aucegypt.edu/Documents/PYTHON/Neural Networks and ML- Geared DC Motor Case Study/DC_Motor_experimental_data_training.csv')\n",
    "exp_data.columns = ['time', 'voltage', 'speed']\n",
    "# range\n",
    "l=25000\n",
    "exp_data_tr=exp_data.iloc[0:l,:]\n",
    "\n",
    "time=exp_data_tr['time']\n",
    "t=np.array(time)\n",
    "\n",
    "input_1=exp_data_tr['voltage']* (5/255)\n",
    "xtr=np.array(input_1)\n",
    "X_train=xtr.reshape(l,1)\n",
    "\n",
    "output_1=exp_data_tr['speed']\n",
    "ytr=np.array(output_1)\n",
    "Y_train=ytr.reshape(l,1)\n",
    "\n",
    "#Data for testing\n",
    "new_data = pd.read_csv('C:/Users/Samual/OneDrive - aucegypt.edu/Documents/PYTHON/Neural Networks and ML- Geared DC Motor Case Study/DC_Motor_experimental_data_testing.csv')\n",
    "new_data.columns = ['time', 'voltage', 'speed']\n",
    "\n",
    "time_test=new_data['time']\n",
    "t_test=np.array(time_test)\n",
    "\n",
    "input_2=new_data['voltage']* (5/255)\n",
    "xts=np.array(input_2)\n",
    "X_test=xts.reshape(l,1)\n",
    "\n",
    "output_2=new_data['speed']\n",
    "yts=np.array(output_2)\n",
    "Y_test=yts.reshape(l,1)"
   ]
  },
  {
   "attachments": {},
   "cell_type": "markdown",
   "metadata": {},
   "source": [
    "<h2> Data Transformation<h2>"
   ]
  },
  {
   "cell_type": "code",
   "execution_count": 11,
   "metadata": {},
   "outputs": [],
   "source": [
    "\n",
    "def data_transform(x_data, y_data, num_steps):\n",
    "    \"\"\" Changes data to the format for CNN and LSTM training for sliding window approach \"\"\"\n",
    "    # Prepare the list for the transformed data\n",
    "    X, Y = list(), list()\n",
    "    # Loop of the entire data set\n",
    "    for i in range(x_data.shape[0]):\n",
    "        # compute a new (sliding window) index\n",
    "        end_ix = i + num_steps\n",
    "        # if index is larger than the size of the dataset, we stop\n",
    "        if end_ix >= x_data.shape[0]:\n",
    "            break\n",
    "        # Get a sequence of data for x data\n",
    "        seq_X = x_data[i:end_ix]\n",
    "        # Get only the last element of the sequency for y data\n",
    "        seq_Y = y_data[end_ix]\n",
    "        # Append the list with the sequence\n",
    "        X.append(seq_X)\n",
    "        Y.append(seq_Y)\n",
    "    # Make final arrays\n",
    "    x_trans_array = np.array(X)\n",
    "    y_trans_array = np.array(Y)\n",
    "    return x_trans_array, y_trans_array"
   ]
  },
  {
   "cell_type": "code",
   "execution_count": 12,
   "metadata": {},
   "outputs": [
    {
     "name": "stdout",
     "output_type": "stream",
     "text": [
      "The transformed shape of x and y are: (24999, 1, 1) and (24999, 1)\n"
     ]
    }
   ],
   "source": [
    "# Training Data\n",
    "num_steps = 1\n",
    "x_new, y_new = data_transform(X_train, Y_train, num_steps=num_steps)\n",
    "#print(x_new)\n",
    "print (\"The transformed shape of x and y are:\", x_new.shape,\"and\", y_new.shape)\n"
   ]
  },
  {
   "cell_type": "code",
   "execution_count": 13,
   "metadata": {},
   "outputs": [
    {
     "name": "stdout",
     "output_type": "stream",
     "text": [
      "The transformed shape of x and y are: (24999, 1, 1) and (24999, 1)\n"
     ]
    }
   ],
   "source": [
    "# Test data\n",
    "num_steps = 1\n",
    "x_nnew, y_nnew = data_transform(X_test, Y_test, num_steps=num_steps)\n",
    "print (\"The transformed shape of x and y are:\", x_nnew.shape,\"and\",y_nnew.shape)"
   ]
  },
  {
   "attachments": {},
   "cell_type": "markdown",
   "metadata": {},
   "source": [
    "<h2>Feedforward Neural Network (FNN) Model<h2>"
   ]
  },
  {
   "cell_type": "code",
   "execution_count": 40,
   "metadata": {},
   "outputs": [
    {
     "name": "stdout",
     "output_type": "stream",
     "text": [
      "Model: \"sequential_5\"\n",
      "_________________________________________________________________\n",
      "Layer (type)                 Output Shape              Param #   \n",
      "=================================================================\n",
      "dense_10 (Dense)             (None, 100)               200       \n",
      "_________________________________________________________________\n",
      "dense_11 (Dense)             (None, 50)                5050      \n",
      "_________________________________________________________________\n",
      "dense_12 (Dense)             (None, 10)                510       \n",
      "_________________________________________________________________\n",
      "dense_13 (Dense)             (None, 1)                 11        \n",
      "=================================================================\n",
      "Total params: 5,771\n",
      "Trainable params: 5,771\n",
      "Non-trainable params: 0\n",
      "_________________________________________________________________\n",
      "Epoch 1/20\n",
      "782/782 - 9s - loss: 31083.1562 - val_loss: 6679.1191\n",
      "Epoch 2/20\n",
      "782/782 - 8s - loss: 1391.4933 - val_loss: 98.5749\n",
      "Epoch 3/20\n",
      "782/782 - 7s - loss: 41.9160 - val_loss: 33.1069\n",
      "Epoch 4/20\n",
      "782/782 - 7s - loss: 22.5146 - val_loss: 28.2935\n",
      "Epoch 5/20\n",
      "782/782 - 7s - loss: 20.7887 - val_loss: 27.5106\n",
      "Epoch 6/20\n",
      "782/782 - 8s - loss: 20.5391 - val_loss: 21.5860\n",
      "Epoch 7/20\n",
      "782/782 - 7s - loss: 20.2378 - val_loss: 21.6457\n",
      "Epoch 8/20\n",
      "782/782 - 7s - loss: 20.2454 - val_loss: 26.5282\n",
      "Epoch 9/20\n",
      "782/782 - 7s - loss: 20.1844 - val_loss: 27.5418\n",
      "Epoch 10/20\n",
      "782/782 - 7s - loss: 20.3603 - val_loss: 29.3288\n",
      "Epoch 11/20\n",
      "782/782 - 7s - loss: 20.3052 - val_loss: 28.0233\n",
      "Epoch 12/20\n",
      "782/782 - 7s - loss: 20.1238 - val_loss: 23.5215\n",
      "Epoch 13/20\n",
      "782/782 - 7s - loss: 20.1602 - val_loss: 24.6127\n",
      "Epoch 14/20\n",
      "782/782 - 7s - loss: 20.1704 - val_loss: 25.9804\n",
      "Epoch 15/20\n",
      "782/782 - 7s - loss: 20.4073 - val_loss: 29.2074\n",
      "Epoch 16/20\n",
      "782/782 - 7s - loss: 20.3104 - val_loss: 26.6896\n",
      "Epoch 17/20\n",
      "782/782 - 7s - loss: 20.2821 - val_loss: 25.5350\n",
      "Epoch 18/20\n",
      "782/782 - 7s - loss: 20.4620 - val_loss: 26.3419\n",
      "Epoch 19/20\n",
      "782/782 - 8s - loss: 20.2446 - val_loss: 34.4284\n",
      "Epoch 20/20\n",
      "782/782 - 7s - loss: 20.2037 - val_loss: 30.0333\n",
      "\n",
      "Computation time: 148.67806911468506 seconds\n"
     ]
    }
   ],
   "source": [
    "model0=Sequential()\n",
    "model0.add(Dense(100, input_dim=1,activation='tanh'))\n",
    "model0.add(Dense(50, input_dim=1,activation='tanh'))\n",
    "model0.add(Dense(10, activation='relu'))\n",
    "model0.add(Dense(1,activation=\"linear\"))\n",
    "model0.summary()\n",
    "\n",
    "#compile model\n",
    "opt = tf.keras.optimizers.Adam(lr=0.001, decay=1e-6)\n",
    "model0.compile(optimizer=opt, loss='mse')\n",
    "\n",
    "from time import time\n",
    "# Start timer\n",
    "t0 = time()\n",
    "#hist0=model0.fit(X_train,Y_train,epochs=10,validation_data = (X_test, Y_test),verbose=2)\n",
    "hist0=model0.fit(x_new, y_new, epochs=20,verbose=2,validation_data=(x_nnew,y_nnew))\n",
    "# Print computation time\n",
    "print('\\nComputation time: {} seconds'.format(time()-t0))"
   ]
  },
  {
   "attachments": {},
   "cell_type": "markdown",
   "metadata": {},
   "source": [
    "<h5>Save FNN Model<h5>"
   ]
  },
  {
   "cell_type": "code",
   "execution_count": 41,
   "metadata": {},
   "outputs": [
    {
     "name": "stdout",
     "output_type": "stream",
     "text": [
      "Model has been saved to disk\n"
     ]
    }
   ],
   "source": [
    "# save model and architecture to single file\n",
    "model0.save(\"DC_motor_model_FNN.h5\")\n",
    "print(\"Model has been saved to disk\")\n",
    "from tensorflow.keras.models import load_model\n",
    "# load model\n",
    "model0 = load_model('DC_motor_model_FNN.h5')"
   ]
  },
  {
   "cell_type": "code",
   "execution_count": 42,
   "metadata": {},
   "outputs": [
    {
     "name": "stdout",
     "output_type": "stream",
     "text": [
      "dict_keys(['loss', 'val_loss'])\n"
     ]
    },
    {
     "data": {
      "image/png": "[encoded data removed]",
      "text/plain": [
       "<Figure size 432x288 with 1 Axes>"
      ]
     },
     "metadata": {
      "needs_background": "light"
     },
     "output_type": "display_data"
    }
   ],
   "source": [
    "#Plotting of Loss\n",
    "print(hist0.history.keys())\n",
    "plt.plot(hist0.history['loss'])\n",
    "plt.plot(hist0.history['val_loss'])\n",
    "plt.title('model loss')\n",
    "plt.ylabel('loss')\n",
    "plt.xlabel('epoch')\n",
    "plt.legend(['train', 'validation'], loc='upper left')\n",
    "plt.show()"
   ]
  },
  {
   "cell_type": "code",
   "execution_count": 43,
   "metadata": {},
   "outputs": [
    {
     "name": "stdout",
     "output_type": "stream",
     "text": [
      "(24999, 1)\n"
     ]
    },
    {
     "data": {
      "text/plain": [
       "array([[ 88.92314],\n",
       "       [ 88.92314],\n",
       "       [ 88.92314],\n",
       "       ...,\n",
       "       [302.16983],\n",
       "       [302.16983],\n",
       "       [302.16983]], dtype=float32)"
      ]
     },
     "execution_count": 43,
     "metadata": {},
     "output_type": "execute_result"
    }
   ],
   "source": [
    "# Prediiction with test data\n",
    "prediction0=model0.predict(x_nnew) ######### prediction with test data\n",
    "print(prediction0.shape)\n",
    "prediction0"
   ]
  },
  {
   "cell_type": "code",
   "execution_count": 44,
   "metadata": {},
   "outputs": [
    {
     "data": {
      "image/png": "[encoded data removed]",
      "text/plain": [
       "<Figure size 432x288 with 1 Axes>"
      ]
     },
     "metadata": {
      "needs_background": "light"
     },
     "output_type": "display_data"
    },
    {
     "name": "stdout",
     "output_type": "stream",
     "text": [
      "\n",
      "\n"
     ]
    }
   ],
   "source": [
    "# Plotting the Model Prediction\n",
    "plt.plot(t_test[num_steps:],y_nnew)\n",
    "plt.plot(t_test[num_steps:],prediction0)\n",
    "plt.ylabel('Angular Speed [RPM]')\n",
    "plt.xlabel('Time [s]')\n",
    "plt.title('The Speed of the DC Motor')\n",
    "plt.show()\n",
    "print('\\n')"
   ]
  },
  {
   "attachments": {},
   "cell_type": "markdown",
   "metadata": {},
   "source": [
    "<h2>Convolutional Neural Network (CNN) Model<h2>"
   ]
  },
  {
   "cell_type": "code",
   "execution_count": 35,
   "metadata": {},
   "outputs": [
    {
     "name": "stdout",
     "output_type": "stream",
     "text": [
      "Model: \"sequential_4\"\n",
      "_________________________________________________________________\n",
      "Layer (type)                 Output Shape              Param #   \n",
      "=================================================================\n",
      "conv1d_2 (Conv1D)            (None, 1, 128)            256       \n",
      "_________________________________________________________________\n",
      "conv1d_3 (Conv1D)            (None, 1, 64)             8256      \n",
      "_________________________________________________________________\n",
      "flatten_1 (Flatten)          (None, 64)                0         \n",
      "_________________________________________________________________\n",
      "dense_8 (Dense)              (None, 5)                 325       \n",
      "_________________________________________________________________\n",
      "dense_9 (Dense)              (None, 1)                 6         \n",
      "=================================================================\n",
      "Total params: 8,843\n",
      "Trainable params: 8,843\n",
      "Non-trainable params: 0\n",
      "_________________________________________________________________\n",
      "Epoch 1/20\n",
      "782/782 - 10s - loss: 20861.9707 - val_loss: 997.6067\n",
      "Epoch 2/20\n",
      "782/782 - 8s - loss: 179.6849 - val_loss: 39.0294\n",
      "Epoch 3/20\n",
      "782/782 - 9s - loss: 24.2220 - val_loss: 29.3990\n",
      "Epoch 4/20\n",
      "782/782 - 9s - loss: 20.9502 - val_loss: 27.3560\n",
      "Epoch 5/20\n",
      "782/782 - 9s - loss: 20.5846 - val_loss: 28.1364\n",
      "Epoch 6/20\n",
      "782/782 - 9s - loss: 20.5856 - val_loss: 21.5553\n",
      "Epoch 7/20\n",
      "782/782 - 8s - loss: 20.2674 - val_loss: 22.0851\n",
      "Epoch 8/20\n",
      "782/782 - 8s - loss: 20.4785 - val_loss: 26.6988\n",
      "Epoch 9/20\n",
      "782/782 - 8s - loss: 20.3648 - val_loss: 29.5364\n",
      "Epoch 10/20\n",
      "782/782 - 8s - loss: 20.5269 - val_loss: 29.8959\n",
      "Epoch 11/20\n",
      "782/782 - 8s - loss: 20.5079 - val_loss: 28.0954\n",
      "Epoch 12/20\n",
      "782/782 - 9s - loss: 20.2964 - val_loss: 23.4624\n",
      "Epoch 13/20\n",
      "782/782 - 9s - loss: 20.3350 - val_loss: 24.6123\n",
      "Epoch 14/20\n",
      "782/782 - 9s - loss: 20.3740 - val_loss: 26.7638\n",
      "Epoch 15/20\n",
      "782/782 - 9s - loss: 20.5978 - val_loss: 28.9183\n",
      "Epoch 16/20\n",
      "782/782 - 9s - loss: 20.5370 - val_loss: 27.4105\n",
      "Epoch 17/20\n",
      "782/782 - 8s - loss: 20.4503 - val_loss: 25.4641\n",
      "Epoch 18/20\n",
      "782/782 - 8s - loss: 20.7235 - val_loss: 27.2618\n",
      "Epoch 19/20\n",
      "782/782 - 8s - loss: 20.3756 - val_loss: 35.5493\n",
      "Epoch 20/20\n",
      "782/782 - 9s - loss: 20.3673 - val_loss: 28.6931\n",
      "\n",
      "Computation time: 173.27560305595398 seconds\n"
     ]
    }
   ],
   "source": [
    "model1=Sequential()\n",
    "model1.add(Conv1D(filters=128,kernel_size=1, activation='tanh', input_shape=(num_steps,1)))\n",
    "model1.add(Conv1D(filters=64,kernel_size=1, activation='tanh'))\n",
    "model1.add(Flatten())\n",
    "model1.add(Dense(5, activation='relu'))\n",
    "model1.add(Dense(1, activation='linear'))\n",
    "\n",
    "# Model Compile and Fit\n",
    "opt = tensorflow.keras.optimizers.Adam(lr=0.001)\n",
    "model1.compile(optimizer=opt, loss='mse')\n",
    "model1.summary()\n",
    "\n",
    "from time import time\n",
    "# Start timer\n",
    "t0 = time()\n",
    "hist1=model1.fit(x_new, y_new, epochs=20,verbose=2,validation_data=(x_nnew,y_nnew))\n",
    "# Print computation time\n",
    "print('\\nComputation time: {} seconds'.format(time()-t0))"
   ]
  },
  {
   "attachments": {},
   "cell_type": "markdown",
   "metadata": {},
   "source": [
    "<h5>Save CNN Model<h5>"
   ]
  },
  {
   "cell_type": "code",
   "execution_count": 36,
   "metadata": {},
   "outputs": [
    {
     "name": "stdout",
     "output_type": "stream",
     "text": [
      "Model has been saved to disk\n"
     ]
    }
   ],
   "source": [
    "# save model and architecture to single file\n",
    "model1.save(\"DC_motor_model_CNN.h5\")\n",
    "print(\"Model has been saved to disk\")\n",
    "from tensorflow.keras.models import load_model\n",
    "# load model\n",
    "model1 = load_model('DC_motor_model_CNN.h5')"
   ]
  },
  {
   "cell_type": "code",
   "execution_count": 37,
   "metadata": {},
   "outputs": [
    {
     "name": "stdout",
     "output_type": "stream",
     "text": [
      "dict_keys(['loss', 'val_loss'])\n"
     ]
    },
    {
     "data": {
      "image/png": "[encoded data removed]",
      "text/plain": [
       "<Figure size 432x288 with 1 Axes>"
      ]
     },
     "metadata": {
      "needs_background": "light"
     },
     "output_type": "display_data"
    }
   ],
   "source": [
    "#Plotting of Loss\n",
    "print(hist1.history.keys())\n",
    "plt.plot(hist1.history['loss'])\n",
    "plt.plot(hist1.history['val_loss'])\n",
    "plt.title('model loss')\n",
    "plt.ylabel('loss')\n",
    "plt.xlabel('epoch')\n",
    "plt.legend(['train', 'validation'], loc='upper left')\n",
    "plt.show()"
   ]
  },
  {
   "cell_type": "code",
   "execution_count": 38,
   "metadata": {},
   "outputs": [
    {
     "name": "stdout",
     "output_type": "stream",
     "text": [
      "(24999, 1)\n"
     ]
    },
    {
     "data": {
      "text/plain": [
       "array([[ 88.59871],\n",
       "       [ 88.59871],\n",
       "       [ 88.59871],\n",
       "       ...,\n",
       "       [301.84494],\n",
       "       [301.84494],\n",
       "       [301.84494]], dtype=float32)"
      ]
     },
     "execution_count": 38,
     "metadata": {},
     "output_type": "execute_result"
    }
   ],
   "source": [
    "# Prediiction with test data\n",
    "prediction1=model1.predict(x_nnew) ######### prediction with test data\n",
    "print(prediction1.shape)\n",
    "prediction1"
   ]
  },
  {
   "cell_type": "code",
   "execution_count": 39,
   "metadata": {},
   "outputs": [
    {
     "data": {
      "image/png": "[encoded data removed]",
      "text/plain": [
       "<Figure size 432x288 with 1 Axes>"
      ]
     },
     "metadata": {
      "needs_background": "light"
     },
     "output_type": "display_data"
    },
    {
     "name": "stdout",
     "output_type": "stream",
     "text": [
      "\n",
      "\n"
     ]
    }
   ],
   "source": [
    "# Plottinf the Model Prediction\n",
    "plt.plot(t_test[num_steps:],y_nnew)\n",
    "plt.plot(t_test[num_steps:],prediction1)\n",
    "plt.ylabel('Angular Speed [RPM]')\n",
    "plt.xlabel('Time [s]')\n",
    "plt.title('The Speed of the DC Motor')\n",
    "plt.show()\n",
    "print('\\n')"
   ]
  },
  {
   "attachments": {},
   "cell_type": "markdown",
   "metadata": {},
   "source": [
    "<h2>Long Short Term Memory (LSTM) Model<h2>"
   ]
  },
  {
   "cell_type": "code",
   "execution_count": 23,
   "metadata": {},
   "outputs": [
    {
     "name": "stdout",
     "output_type": "stream",
     "text": [
      "Epoch 1/20\n",
      "782/782 - 16s - loss: 14082.7393 - val_loss: 251.5041\n",
      "Epoch 2/20\n",
      "782/782 - 11s - loss: 202.6712 - val_loss: 181.5970\n",
      "Epoch 3/20\n",
      "782/782 - 11s - loss: 142.6295 - val_loss: 117.2085\n",
      "Epoch 4/20\n",
      "782/782 - 11s - loss: 87.3062 - val_loss: 68.7448\n",
      "Epoch 5/20\n",
      "782/782 - 11s - loss: 50.7365 - val_loss: 42.9343\n",
      "Epoch 6/20\n",
      "782/782 - 11s - loss: 34.3547 - val_loss: 31.1886\n",
      "Epoch 7/20\n",
      "782/782 - 11s - loss: 28.9640 - val_loss: 30.8846\n",
      "Epoch 8/20\n",
      "782/782 - 11s - loss: 26.2595 - val_loss: 29.4539\n",
      "Epoch 9/20\n",
      "782/782 - 11s - loss: 23.9809 - val_loss: 26.7285\n",
      "Epoch 10/20\n",
      "782/782 - 11s - loss: 22.1958 - val_loss: 28.6387\n",
      "Epoch 11/20\n",
      "782/782 - 11s - loss: 21.2039 - val_loss: 25.7591\n",
      "Epoch 12/20\n",
      "782/782 - 10s - loss: 20.6211 - val_loss: 25.1306\n",
      "Epoch 13/20\n",
      "782/782 - 11s - loss: 20.4188 - val_loss: 24.7665\n",
      "Epoch 14/20\n",
      "782/782 - 11s - loss: 20.3202 - val_loss: 25.0040\n",
      "Epoch 15/20\n",
      "782/782 - 10s - loss: 20.2738 - val_loss: 27.9330\n",
      "Epoch 16/20\n",
      "782/782 - 10s - loss: 20.2757 - val_loss: 26.5094\n",
      "Epoch 17/20\n",
      "782/782 - 11s - loss: 20.1361 - val_loss: 24.1516\n",
      "Epoch 18/20\n",
      "782/782 - 11s - loss: 20.1858 - val_loss: 28.1138\n",
      "Epoch 19/20\n",
      "782/782 - 11s - loss: 20.1083 - val_loss: 24.4146\n",
      "Epoch 20/20\n",
      "782/782 - 11s - loss: 20.1460 - val_loss: 27.5796\n",
      "\n",
      "Computation time: 217.66606092453003 seconds\n"
     ]
    }
   ],
   "source": [
    "model2 = Sequential()\n",
    "model2.add(LSTM(100, activation='tanh', input_shape=(num_steps, 1),return_sequences=False))\n",
    "model2.add(Dense(units=50, activation='relu'))\n",
    "model2.add(Dense(units=1, activation='linear'))\n",
    "adam = tensorflow.keras.optimizers.Adam(lr=0.001)\n",
    "model2.compile(optimizer=adam, loss='mse')\n",
    "from time import time\n",
    "# Start timer\n",
    "t0 = time()\n",
    "hist2=model2.fit(x_new, y_new, epochs=20,verbose=2,validation_data=(x_nnew,y_nnew))\n",
    "# Print computation time\n",
    "print('\\nComputation time: {} seconds'.format(time()-t0))\n"
   ]
  },
  {
   "attachments": {},
   "cell_type": "markdown",
   "metadata": {},
   "source": [
    "<h5>Save LSTM Model<h5>"
   ]
  },
  {
   "cell_type": "code",
   "execution_count": 26,
   "metadata": {},
   "outputs": [
    {
     "name": "stdout",
     "output_type": "stream",
     "text": [
      "Model has been saved to disk\n"
     ]
    }
   ],
   "source": [
    "# save model and architecture to single file\n",
    "model2.save(\"DC_motor_model_LSTM.h5\")\n",
    "print(\"Model has been saved to disk\")\n",
    "from tensorflow.keras.models import load_model\n",
    "# load model\n",
    "model_LSTM = load_model('DC_motor_model_LSTM.h5')"
   ]
  },
  {
   "cell_type": "code",
   "execution_count": 27,
   "metadata": {},
   "outputs": [
    {
     "name": "stdout",
     "output_type": "stream",
     "text": [
      "dict_keys(['loss', 'val_loss'])\n"
     ]
    },
    {
     "data": {
      "image/png": "[encoded data removed]",
      "text/plain": [
       "<Figure size 432x288 with 1 Axes>"
      ]
     },
     "metadata": {
      "needs_background": "light"
     },
     "output_type": "display_data"
    }
   ],
   "source": [
    "#Plotting of Loss\n",
    "print(hist2.history.keys())\n",
    "plt.plot(hist2.history['loss'])\n",
    "plt.plot(hist2.history['val_loss'])\n",
    "plt.title('model loss')\n",
    "plt.ylabel('loss')\n",
    "plt.xlabel('epoch')\n",
    "plt.legend(['train', 'validation'], loc='upper left')\n",
    "plt.show()"
   ]
  },
  {
   "cell_type": "code",
   "execution_count": 28,
   "metadata": {},
   "outputs": [
    {
     "name": "stdout",
     "output_type": "stream",
     "text": [
      "(24999, 1)\n"
     ]
    },
    {
     "data": {
      "text/plain": [
       "array([[ 87.12563],\n",
       "       [ 87.12563],\n",
       "       [ 87.12563],\n",
       "       ...,\n",
       "       [301.0795 ],\n",
       "       [301.0795 ],\n",
       "       [301.0795 ]], dtype=float32)"
      ]
     },
     "execution_count": 28,
     "metadata": {},
     "output_type": "execute_result"
    }
   ],
   "source": [
    "# Prediiction with test data\n",
    "prediction2=model2.predict(x_nnew) ######### prediction with test data\n",
    "print(prediction2.shape)\n",
    "prediction2"
   ]
  },
  {
   "cell_type": "code",
   "execution_count": 29,
   "metadata": {},
   "outputs": [
    {
     "data": {
      "image/png": "[encoded data removed]",
      "text/plain": [
       "<Figure size 432x288 with 1 Axes>"
      ]
     },
     "metadata": {
      "needs_background": "light"
     },
     "output_type": "display_data"
    },
    {
     "name": "stdout",
     "output_type": "stream",
     "text": [
      "\n",
      "\n"
     ]
    }
   ],
   "source": [
    "# Plotting the Model Prediction\n",
    "plt.plot(t_test[num_steps:],y_nnew)\n",
    "plt.plot(t_test[num_steps:],prediction2)\n",
    "plt.ylabel('Angular Speed [RPM]')\n",
    "plt.xlabel('Time [s]')\n",
    "plt.title('The Speed of the DC Motor')\n",
    "plt.show()\n",
    "print('\\n')"
   ]
  },
  {
   "cell_type": "code",
   "execution_count": 46,
   "metadata": {},
   "outputs": [
    {
     "data": {
      "image/png": "[encoded data removed]",
      "text/plain": [
       "<Figure size 1500x750 with 1 Axes>"
      ]
     },
     "metadata": {
      "needs_background": "light"
     },
     "output_type": "display_data"
    }
   ],
   "source": [
    "# Plotting the Models\n",
    "from matplotlib.pyplot import figure\n",
    "fig=plt.figure(figsize=(20,10),dpi=75)\n",
    "plt.rcParams.update ({\"font.size\":25})\n",
    "plt.plot(t_test[num_steps:],y_nnew, color='r',linewidth=4,label=\"Actual motor angular speed\")\n",
    "plt.plot(t_test[num_steps:],prediction0, color='b',linewidth=3,label=\"FNN model\")\n",
    "plt.plot(t_test[num_steps:],prediction1, color='c',linewidth=3,label=\"CNN model\")\n",
    "plt.plot(t_test[num_steps:],prediction2, color='g',linewidth=3,label=\"LSTM model\")\n",
    "plt.ylabel('$\\psi_{os}(t)$ [rpm]',fontsize=25)\n",
    "plt.xlabel('t [s]',fontsize=25)\n",
    "#plt.title('The Angular Speed Prediction of Different Geared DC Motor Black-Box Models',fontsize=25)\n",
    "plt.legend(loc=2, prop={'size': 20})\n",
    "plt.grid(True)\n",
    "plt.show()\n",
    "fig.savefig(\"Black-box models.svg\") \n"
   ]
  }
 ],
 "metadata": {
  "interpreter": {
   "hash": "fdbaea646e10b6ce3bd89456d80f027bf79d80773c40933b91be03fd2d60180e"
  },
  "kernelspec": {
   "display_name": "Python 3.7.11 ('deep_env2')",
   "language": "python",
   "name": "python3"
  },
  "language_info": {
   "codemirror_mode": {
    "name": "ipython",
    "version": 3
   },
   "file_extension": ".py",
   "mimetype": "text/x-python",
   "name": "python",
   "nbconvert_exporter": "python",
   "pygments_lexer": "ipython3",
   "version": "3.7.11"
  },
  "orig_nbformat": 4
 },
 "nbformat": 4,
 "nbformat_minor": 2
}
